{
 "cells": [
  {
   "cell_type": "code",
   "execution_count": 1,
   "metadata": {
    "collapsed": false,
    "deletable": true,
    "editable": true
   },
   "outputs": [],
   "source": [
    "import numpy as np\n",
    "import pandas as pd\n",
    "import matplotlib.pyplot as plt\n",
    "\n",
    "from bokeh.models import ColumnDataSource, HoverTool, LabelSet, Range1d\n",
    "from bokeh.plotting import figure, show, output_file\n",
    "from bokeh.sampledata.periodic_table import elements\n",
    "from bokeh.palettes import Spectral6\n",
    "#from bokeh.transform import linear_cmap\n",
    "from platform import python_version\n",
    "from bokeh.io import output_file, show\n",
    "from bokeh.layouts import gridplot\n",
    "from bokeh.models import NumeralTickFormatter\n",
    "\n",
    "\n",
    "\n",
    "#print(python_version())\n",
    "import sys\n",
    "sys.executable\n",
    "\n",
    "pd.set_option('display.max_columns', 105)\n",
    "pd.set_option('display.max_rows'   , 200)"
   ]
  },
  {
   "cell_type": "code",
   "execution_count": 32,
   "metadata": {
    "collapsed": false,
    "deletable": true,
    "editable": true
   },
   "outputs": [],
   "source": [
    "m000c000=pd.read_csv(\"spec/T5250g2.50z+0.00c+0.00.csv\")\n",
    "m050c000=pd.read_csv(\"spec/T5250g2.50z-0.50c+0.00.csv\")\n",
    "m100c000=pd.read_csv(\"spec/T5250g2.50z-1.00c+0.00.csv\")\n",
    "m150c000=pd.read_csv(\"spec/T5250g2.50z-1.50c+0.00.csv\")\n",
    "m200c000=pd.read_csv(\"spec/T5250g2.50z-2.00c+0.00.csv\")\n",
    "m250c000=pd.read_csv(\"spec/T5250g2.50z-2.50c+0.00.csv\")\n",
    "m300c000=pd.read_csv(\"spec/T5250g2.50z-3.00c+0.00.csv\")\n",
    "m350c000=pd.read_csv(\"spec/T5250g2.50z-3.50c+0.00.csv\")\n",
    "m400c000=pd.read_csv(\"spec/T5250g2.50z-4.00c+0.00.csv\")\n",
    "m450c000=pd.read_csv(\"spec/T5250g2.50z-4.50c+0.00.csv\")\n",
    "\n",
    "m300c001=pd.read_csv(\"spec/T5250g2.50z-3.00c-1.00.csv\")\n",
    "m300c002=pd.read_csv(\"spec/T5250g2.50z-3.00c-0.50.csv\")\n",
    "m300c003=pd.read_csv(\"spec/T5250g2.50z-3.00c+0.00.csv\")\n",
    "m300c004=pd.read_csv(\"spec/T5250g2.50z-3.00c+0.50.csv\")\n",
    "m300c005=pd.read_csv(\"spec/T5250g2.50z-3.00c+1.00.csv\")\n",
    "m300c006=pd.read_csv(\"spec/T5250g2.50z-3.00c+1.50.csv\")\n",
    "m300c007=pd.read_csv(\"spec/T5250g2.50z-3.00c+2.00.csv\")\n",
    "m300c008=pd.read_csv(\"spec/T5250g2.50z-3.00c+2.50.csv\")"
   ]
  },
  {
   "cell_type": "code",
   "execution_count": 39,
   "metadata": {
    "collapsed": false,
    "deletable": true,
    "editable": true
   },
   "outputs": [],
   "source": [
    "TOOLS=\"hover,crosshair,pan,wheel_zoom,zoom_in,zoom_out,box_zoom,undo,redo,reset,tap,save,box_select,poly_select,lasso_select,\"\n",
    "\n",
    "sm000c000=ColumnDataSource(m000c000[(m000c000.wave>3000) & (m000c000.wave<10000)])\n",
    "sm050c000=ColumnDataSource(m050c000[(m050c000.wave>3000) & (m050c000.wave<10000)])\n",
    "sm100c000=ColumnDataSource(m100c000[(m100c000.wave>3000) & (m100c000.wave<10000)])\n",
    "sm150c000=ColumnDataSource(m150c000[(m150c000.wave>3000) & (m150c000.wave<10000)])\n",
    "sm200c000=ColumnDataSource(m200c000[(m200c000.wave>3000) & (m200c000.wave<10000)])\n",
    "sm250c000=ColumnDataSource(m250c000[(m250c000.wave>3000) & (m250c000.wave<10000)])\n",
    "sm300c000=ColumnDataSource(m300c000[(m300c000.wave>3000) & (m300c000.wave<10000)])\n",
    "sm350c000=ColumnDataSource(m350c000[(m350c000.wave>3000) & (m350c000.wave<10000)])\n",
    "sm400c000=ColumnDataSource(m400c000[(m400c000.wave>3000) & (m400c000.wave<10000)])\n",
    "sm450c000=ColumnDataSource(m450c000[(m450c000.wave>3000) & (m450c000.wave<10000)])\n",
    "\n",
    "sm300c001=ColumnDataSource(m300c001[(m300c001.wave>3000) & (m300c001.wave<10000)])\n",
    "sm300c002=ColumnDataSource(m300c002[(m300c002.wave>3000) & (m300c002.wave<10000)])\n",
    "sm300c003=ColumnDataSource(m300c003[(m300c003.wave>3000) & (m300c003.wave<10000)])\n",
    "sm300c004=ColumnDataSource(m300c004[(m300c004.wave>3000) & (m300c004.wave<10000)])\n",
    "sm300c005=ColumnDataSource(m300c005[(m300c005.wave>3000) & (m300c005.wave<10000)])\n",
    "sm300c006=ColumnDataSource(m300c006[(m300c006.wave>3000) & (m300c006.wave<10000)])\n",
    "sm300c007=ColumnDataSource(m300c007[(m300c007.wave>3000) & (m300c007.wave<10000)])\n",
    "sm300c008=ColumnDataSource(m300c008[(m300c008.wave>3000) & (m300c008.wave<10000)])\n",
    "\n",
    "pm = figure(tools=TOOLS,plot_width=1000, plot_height=400)\n",
    "pm.xaxis.axis_label = 'λ(Å)'\n",
    "pm.yaxis.axis_label = 'Normalized Flux'\n",
    "pm.x_range=Range1d(3790,4110)\n",
    "pm.y_range=Range1d(-0.08,1.080)\n",
    "pm.yaxis.formatter=NumeralTickFormatter(format=\"0.00\")\n",
    "pm.line(\"wave\",\"norm\",source=sm100c000, color=\"#0025AD\", alpha=0.75, line_width=3.0, legend=\"[Fe/H]=-1.0\")\n",
    "pm.line(\"wave\",\"norm\",source=sm150c000, color=\"#0060AD\", alpha=0.75, line_width=3.0, legend=\"[Fe/H]=-1.5\")\n",
    "pm.line(\"wave\",\"norm\",source=sm200c000, color=\"#007CAD\", alpha=0.75, line_width=3.0, legend=\"[Fe/H]=-2.0\")\n",
    "pm.line(\"wave\",\"norm\",source=sm250c000, color=\"#0099AD\", alpha=0.75, line_width=3.0, legend=\"[Fe/H]=-2.5\")\n",
    "pm.line(\"wave\",\"norm\",source=sm300c000, color=\"#00ADA4\", alpha=0.75, line_width=3.0, legend=\"[Fe/H]=-3.0\")\n",
    "pm.line(\"wave\",\"norm\",source=sm350c000, color=\"#00AD88\", alpha=0.75, line_width=3.0, legend=\"[Fe/H]=-3.5\")\n",
    "pm.line(\"wave\",\"norm\",source=sm400c000, color=\"#00AD31\", alpha=0.75, line_width=3.0, legend=\"[Fe/H]=-4.0\")\n",
    "pm.line(\"wave\",\"norm\",source=sm450c000, color=\"#00AD14\", alpha=0.75, line_width=3.0, legend=\"[Fe/H]=-4.5\")\n",
    "\n",
    "pc = figure(tools=TOOLS,plot_width=1000, plot_height=400)\n",
    "pc.xaxis.axis_label = 'λ(Å)'\n",
    "pc.yaxis.axis_label = 'Normalized Flux'\n",
    "pc.x_range=Range1d(4080,4520)\n",
    "pc.y_range=Range1d(-0.08,1.08)\n",
    "pc.yaxis.formatter=NumeralTickFormatter(format=\"0.00\")\n",
    "pc.line(\"wave\",\"norm\",source=sm300c008, color=\"#0025AD\", alpha=0.75, line_width=3.0, legend=\"[C/Fe]=+2.5\")\n",
    "pc.line(\"wave\",\"norm\",source=sm300c007, color=\"#0060AD\", alpha=0.75, line_width=3.0, legend=\"[C/Fe]=+2.0\")\n",
    "pc.line(\"wave\",\"norm\",source=sm300c006, color=\"#007CAD\", alpha=0.75, line_width=3.0, legend=\"[C/Fe]=+1.5\")\n",
    "pc.line(\"wave\",\"norm\",source=sm300c005, color=\"#0099AD\", alpha=0.75, line_width=3.0, legend=\"[C/Fe]=+1.0\")\n",
    "pc.line(\"wave\",\"norm\",source=sm300c004, color=\"#00ADA4\", alpha=0.75, line_width=3.0, legend=\"[C/Fe]=+0.5\")\n",
    "pc.line(\"wave\",\"norm\",source=sm300c003, color=\"#00AD88\", alpha=0.75, line_width=3.0, legend=\"[C/Fe]=+0.0\")\n",
    "pc.line(\"wave\",\"norm\",source=sm300c002, color=\"#00AD31\", alpha=0.75, line_width=3.0, legend=\"[C/Fe]=-0.5\")\n",
    "pc.line(\"wave\",\"norm\",source=sm300c001, color=\"#00AD14\", alpha=0.75, line_width=3.0, legend=\"[C/Fe]=-1.0\")\n",
    "\n",
    "pm.legend.click_policy=\"hide\"\n",
    "pc.legend.click_policy=\"hide\"\n",
    "pm.legend.location = 'bottom_right'\n",
    "pc.legend.location = 'bottom_right'\n",
    "\n",
    "p = gridplot([[pm], [pc]])\n",
    "\n",
    "output_file(\"tmp_synthetic.html\", title=\"Synthetic Spectra\")\n",
    "\n",
    "show(p)  # open a browser"
   ]
  },
  {
   "cell_type": "code",
   "execution_count": null,
   "metadata": {
    "collapsed": true,
    "deletable": true,
    "editable": true
   },
   "outputs": [],
   "source": []
  }
 ],
 "metadata": {
  "kernelspec": {
   "display_name": "Python 3",
   "language": "python",
   "name": "python3"
  },
  "language_info": {
   "codemirror_mode": {
    "name": "ipython",
    "version": 3
   },
   "file_extension": ".py",
   "mimetype": "text/x-python",
   "name": "python",
   "nbconvert_exporter": "python",
   "pygments_lexer": "ipython3",
   "version": "3.7.5"
  }
 },
 "nbformat": 4,
 "nbformat_minor": 2
}
